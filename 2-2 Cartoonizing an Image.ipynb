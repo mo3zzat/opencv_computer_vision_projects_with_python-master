{
 "cells": [
  {
   "cell_type": "markdown",
   "metadata": {},
   "source": [
    "# Cartoonizing an Image"
   ]
  },
  {
   "cell_type": "markdown",
   "metadata": {},
   "source": [
    "In this chapter, we are going to learn how to convert an image into a cartoon-like image. We will learn how to access the webcam and take keyboard/mouse inputs during a live video stream. We will also learn about some advanced image filters and see how we can use them to cartoonize an image."
   ]
  },
  {
   "cell_type": "markdown",
   "metadata": {},
   "source": [
    "By the end of this chapter, you will know: \n",
    "\n",
    "• How to access the webcam \n",
    "\n",
    "• How to take keyboard and mouse inputs during a live video stream \n",
    "\n",
    "• How to create an interactive application \n",
    "\n",
    "• How to use advanced image filters \n",
    "\n",
    "• How to cartoonize an image "
   ]
  },
  {
   "cell_type": "markdown",
   "metadata": {},
   "source": [
    "# Accessing the webcam"
   ]
  },
  {
   "cell_type": "markdown",
   "metadata": {},
   "source": [
    "We can build very interesting applications using the live video stream from the webcam. OpenCV provides a video capture object which handles everything related to opening and closing of the webcam. All we need to do is create that object and keep reading frames from it."
   ]
  },
  {
   "cell_type": "code",
   "execution_count": 1,
   "metadata": {},
   "outputs": [],
   "source": [
    "import cv2 \n",
    "\n",
    "video = cv2.VideoCapture(0)\n",
    "\n",
    "a = 0 \n",
    "\n",
    "while True:\n",
    "    \n",
    "    check,frame = video.read()\n",
    "    a=a+1\n",
    "    \n",
    "#    print(frame)\n",
    "    cv2.imshow('webcam',frame)\n",
    "    key = cv2.waitKey(1)\n",
    "    if key ==ord('q'):\n",
    "        cv2.destroyAllWindows()\n",
    "        break\n",
    "\n",
    "video.release()        \n",
    "\n",
    "\n"
   ]
  },
  {
   "cell_type": "markdown",
   "metadata": {},
   "source": [
    "# Mouse inputs"
   ]
  },
  {
   "cell_type": "markdown",
   "metadata": {},
   "source": [
    "In this section, we will see how to use the mouse to interact with the display window. Let's start with something simple. We will write a program that will detect the quadrant in which the mouse click was detected. Once we detect it, we will highlight that quadrant."
   ]
  },
  {
   "cell_type": "code",
   "execution_count": 2,
   "metadata": {},
   "outputs": [],
   "source": [
    "def detect_quadrant(event,x,y,flags,param):\n",
    "    if event == cv2.EVENT_LBUTTONDOWN:\n",
    "        if x > width/2:\n",
    "            if y > height/2:\n",
    "                point_top_left = (int(width/2),int(height/2))\n",
    "                point_bottom_right = (width-1,height-1)\n",
    "                \n",
    "            else :\n",
    "                point_top_left = (int(width/2),0)\n",
    "                point_bottom_right = (width-1,int(height/2))\n",
    "        else:           \n",
    "            if y > height/2:             \n",
    "                 point_top_left = (0, int(height/2))   \n",
    "                 point_bottom_right = (int(width/2), height-1)      \n",
    "            else:           \n",
    "                point_top_left = (0, 0)          \n",
    "                point_bottom_right = (int(width/2), int(height/2))\n",
    "        cv2.rectangle(img, (0,0), (width-1,height-1), (255,255,255), -1)     \n",
    "        cv2.rectangle(img, point_top_left, point_bottom_right, (0,100,0), -1)"
   ]
  },
  {
   "cell_type": "code",
   "execution_count": 3,
   "metadata": {},
   "outputs": [],
   "source": [
    "import cv2 \n",
    "import numpy as np \n",
    "\n",
    "# parameter of image \n",
    "width, height = 640, 480\n",
    "\n",
    "#create image \n",
    "img = 255 * np.ones((height, width, 3), dtype=np.uint8)\n",
    "\n",
    "\n",
    "cv2.namedWindow('Input window') \n",
    "cv2.setMouseCallback('Input window', detect_quadrant)\n",
    "while True:\n",
    "    cv2.imshow('Input window', img) \n",
    "    k = cv2.waitKey(1) & 0xFF\n",
    "    if k == ord('m'):\n",
    "        mode = not mode\n",
    "    elif k == ord('q'):\n",
    "        break\n",
    "cv2.destroyAllWindows()    "
   ]
  },
  {
   "cell_type": "markdown",
   "metadata": {},
   "source": [
    "# Interacting with a live video stream \n"
   ]
  },
  {
   "cell_type": "markdown",
   "metadata": {},
   "source": [
    "Let's see how we can use the mouse to interact with live video stream from the webcam. We can use the mouse to select a region and then apply the \"negative film\" effect on that region, as shown next:"
   ]
  },
  {
   "cell_type": "code",
   "execution_count": 1,
   "metadata": {},
   "outputs": [],
   "source": [
    "import cv2 \n",
    "import numpy as np\n",
    "\n",
    "def draw_rectangle(event, x, y, flags, params): \n",
    "    global x_init, y_init, drawing , top_left_pt , bottom_right_pt\n",
    "    \n",
    "    if event == cv2.EVENT_LBUTTONDOWN:    \n",
    "        drawing = True     \n",
    "        x_init, y_init = x, y\n",
    "    elif event == cv2.EVENT_MOUSEMOVE:    \n",
    "        if drawing:       \n",
    "            top_left_pt = (min(x_init, x), min(y_init, y))     \n",
    "            bottom_right_pt = (max(x_init, x), max(y_init, y))       \n",
    "            img[y_init:y, x_init:x] = 255 - img[y_init:y, x_init:x]\n",
    "            \n",
    "    elif event == cv2.EVENT_LBUTTONUP:    \n",
    "        drawing = False       \n",
    "        top_left_pt = (min(x_init, x), min(y_init, y))  \n",
    "        bottom_right_pt = (max(x_init, x), max(y_init, y))       \n",
    "        img[y_init:y, x_init:x] = 255 - img[y_init:y, x_init:x]\n",
    "        \n",
    "if __name__=='__main__':   \n",
    "    drawing = False   \n",
    "    top_left_pt, bottom_right_pt = (-1,-1), (-1,-1)\n",
    "    cap = cv2.VideoCapture(0)\n",
    "    # Check if the webcam is opened correctly    \n",
    "    if not cap.isOpened():      \n",
    "        raise IOError(\"Cannot open webcam\")\n",
    "    cv2.namedWindow('Webcam') \n",
    "    cv2.setMouseCallback('Webcam', draw_rectangle)\n",
    "    \n",
    "    while True:   \n",
    "        ret, frame = cap.read()   \n",
    "        img = cv2.resize(frame, None, fx=0.5, fy=0.5, interpolation=cv2.INTER_AREA)   \n",
    "        (x0,y0), (x1,y1) = top_left_pt, bottom_right_pt       \n",
    "        img[y0:y1, x0:x1] = 255 - img[y0:y1, x0:x1]  \n",
    "        cv2.imshow('Webcam', img)\n",
    "        c = cv2.waitKey(1)    \n",
    "        if c == 27:           \n",
    "            break\n",
    "    cap.release()   \n",
    "    cv2.destroyAllWindows()\n"
   ]
  },
  {
   "cell_type": "markdown",
   "metadata": {},
   "source": [
    "# cartonize the image "
   ]
  },
  {
   "cell_type": "code",
   "execution_count": null,
   "metadata": {},
   "outputs": [],
   "source": [
    "import cv2\n",
    "import numpy as np \n",
    "def cartonizing_image(img,ds_factro=4,sketch_mode=False):\n",
    "    #convert img to gray scale \n",
    "    gray = cv2.cvtColor(img,cv2.COLOR_BGR2GRAY)\n",
    "    \n",
    "    #applay median filter to gray scale\n",
    "    img_gray = cv2.medianBlur(gray,7)\n",
    "    \n",
    "    #Detect edge in the image and threshold it \n",
    "    edges = cv2.Laplacian(img_gray,cv2.CV_8U,ksize=5)\n",
    "    ret , mask = cv2.threshold(edges,100,255,cv2.THRESH_TRUNC)\n",
    "    \n",
    "    if sketch_mode:\n",
    "        return cv2.cvtColor(mask,cv2.COLOR_GRAY2RGB)\n",
    "    \n",
    "if __name__=='__main__':\n",
    "    cap = cv2.VideoCapture(0)\n",
    "    cur_char = -1\n",
    "    pre_char = -1\n",
    "    while True :\n",
    "        ret,frame = cap.read()\n",
    "        frame = cv2.resize(frame,None,fx=0.5,fy=0.5,interpolation=cv2.INTER_AREA)\n",
    "        c = cv2.waitKey(1)\n",
    "        if c==27:\n",
    "            break\n",
    "        if c > -1 and c !=pre_char:\n",
    "            cur_char = c\n",
    "            pre_char = c\n",
    "        if cur_char == ord('s'):\n",
    "            cv2.imshow('cartonize',cartonizing_image(frame,sketch_mode=True))\n",
    "        else:    \n",
    "            cv2.imshow('Cartoonize', frame)    \n",
    "            \n",
    "    cap.release()\n",
    "    cv2.destroyAllWindows()"
   ]
  }
 ],
 "metadata": {
  "kernelspec": {
   "display_name": "Python 3",
   "language": "python",
   "name": "python3"
  },
  "language_info": {
   "codemirror_mode": {
    "name": "ipython",
    "version": 3
   },
   "file_extension": ".py",
   "mimetype": "text/x-python",
   "name": "python",
   "nbconvert_exporter": "python",
   "pygments_lexer": "ipython3",
   "version": "3.7.4"
  }
 },
 "nbformat": 4,
 "nbformat_minor": 2
}
